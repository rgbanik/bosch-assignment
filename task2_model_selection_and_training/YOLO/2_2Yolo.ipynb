{
  "nbformat": 4,
  "nbformat_minor": 0,
  "metadata": {
    "colab": {
      "provenance": [],
      "gpuType": "T4"
    },
    "kernelspec": {
      "name": "python3",
      "display_name": "Python 3"
    },
    "language_info": {
      "name": "python"
    },
    "accelerator": "GPU"
  },
  "cells": [
    {
      "cell_type": "code",
      "source": [
        "%%capture\n",
        "# To run this notebook on your account, please upload the exact .zip file\n",
        "# provided in the assignment sheet to your google drive storage\n",
        "\n",
        "# Mount drive and extract the provided .zip file\n",
        "from google.colab import drive\n",
        "drive.mount(\"/content/drive\")\n",
        "!unzip /content/drive/MyDrive/assignment_data_bdd.zip -d /content/data"
      ],
      "metadata": {
        "id": "3-laIWzvGg47"
      },
      "execution_count": null,
      "outputs": []
    },
    {
      "cell_type": "markdown",
      "source": [
        "### First, let's restructure our dataset directory. This is done to avoid long path names, as well as to adjust for the lack of labels for the provided set of test images"
      ],
      "metadata": {
        "id": "zlmSaPdZYNaO"
      }
    },
    {
      "cell_type": "code",
      "source": [
        "# Create a folder called images in /content/data and move train and val to that\n",
        "# directory. Since test has no labels and is not used in the evaluation stage,\n",
        "# it is best to delete the folder entirely\n",
        "!mkdir /content/data/images\n",
        "!mv /content/data/bdd100k_images_100k/bdd100k/images/100k/train \\\n",
        "/content/data/images\n",
        "!mv /content/data/bdd100k_images_100k/bdd100k/images/100k/val \\\n",
        "/content/data/images\n",
        "!rm -rf /content/data/bdd100k_images_100k\n",
        "\n",
        "# Move labels folder and remove parent directories\n",
        "# !mkdir /content/data/labels\n",
        "!mv /content/data/bdd100k_labels_release/bdd100k/labels /content/data\n",
        "!mv /content/data/labels /content/data/labels_json\n",
        "!rm -rf /content/data/bdd100k_labels_release\n",
        "\n",
        "# Rename images/val to images/test and corresponding label file\n",
        "!mv /content/data/images/val /content/data/images/test\n",
        "!mv /content/data/labels_json/bdd100k_labels_images_val.json \\\n",
        "/content/data/labels_json/bdd100k_labels_images_test.json\n"
      ],
      "metadata": {
        "id": "g-2LgQEfOP-V"
      },
      "execution_count": null,
      "outputs": []
    },
    {
      "cell_type": "code",
      "source": [
        "# Just to confirm that the train dataset has 70k jpg images\n",
        "!find /content/data/images/train -type f | sed -n 's/.*\\.\\([^.]*\\)$/\\1/p' | sort | uniq -c\n",
        "# Also, let's install ijson to lazily load the huge json files\n",
        "!pip install ijson"
      ],
      "metadata": {
        "colab": {
          "base_uri": "https://localhost:8080/"
        },
        "id": "T2Ha645Ldfld",
        "outputId": "89e30f72-2939-4be8-f586-60e4c4ef8d7c"
      },
      "execution_count": null,
      "outputs": [
        {
          "output_type": "stream",
          "name": "stdout",
          "text": [
            "  70000 jpg\n",
            "Collecting ijson\n",
            "  Downloading ijson-3.4.0-cp312-cp312-manylinux_2_17_x86_64.manylinux2014_x86_64.whl.metadata (21 kB)\n",
            "Downloading ijson-3.4.0-cp312-cp312-manylinux_2_17_x86_64.manylinux2014_x86_64.whl (148 kB)\n",
            "\u001b[2K   \u001b[90m━━━━━━━━━━━━━━━━━━━━━━━━━━━━━━━━━━━━━━━━\u001b[0m \u001b[32m148.3/148.3 kB\u001b[0m \u001b[31m5.9 MB/s\u001b[0m eta \u001b[36m0:00:00\u001b[0m\n",
            "\u001b[?25hInstalling collected packages: ijson\n",
            "Successfully installed ijson-3.4.0\n"
          ]
        }
      ]
    },
    {
      "cell_type": "markdown",
      "source": [
        "### Now let's directly generate our yolo-ready labels and split the given train dataset into train and val. Let's start easy with the test set. When splitting the train dataset, let's send every 10th image to val to ensure that 10 percent of the training data is set aside as a validation set."
      ],
      "metadata": {
        "id": "UfRmrWCGYjVo"
      }
    },
    {
      "cell_type": "code",
      "source": [
        "# Since we already know the classes from analysis time, let's just\n",
        "# hardcode a dict to avoid counting everything again\n",
        "category_indices = {\n",
        "    \"traffic sign\": 0,\n",
        "    \"traffic light\": 1,\n",
        "    \"car\": 2,\n",
        "    \"rider\": 3,\n",
        "    \"motor\": 4, # Motorcycle, haha\n",
        "    \"person\": 5,\n",
        "    \"bus\": 6,\n",
        "    \"truck\": 7,\n",
        "    \"bike\": 8,\n",
        "    \"train\": 9\n",
        "}\n",
        "# Also, the image size is fixed for the whole dataset\n",
        "IMAGE_WIDTH = 1280\n",
        "IMAGE_HEIGHT = 720"
      ],
      "metadata": {
        "id": "p7PQ-HDmobhK"
      },
      "execution_count": null,
      "outputs": []
    },
    {
      "cell_type": "code",
      "source": [
        "# Generate YOLO style .txt labels for the test set\n",
        "!mkdir /content/data/labels && mkdir /content/data/labels/test\n",
        "import ijson\n",
        "from pathlib import Path\n",
        "\n",
        "test_labels_json_path = Path(\"/content/data/labels_json/bdd100k_labels_images_test.json\")\n",
        "test_labels_txt_root = Path(\"/content/data/labels/test\")\n",
        "with test_labels_json_path.open(\"r\", encoding=\"utf-8\") as test_labels_json_f:\n",
        "    for obj in ijson.items(test_labels_json_f, \"item\"):\n",
        "        for label in obj[\"labels\"]:\n",
        "            category = label[\"category\"]\n",
        "            if category in category_indices.keys():\n",
        "                x1 = label[\"box2d\"][\"x1\"]\n",
        "                y1 = label[\"box2d\"][\"y1\"]\n",
        "                x2 = label[\"box2d\"][\"x2\"]\n",
        "                y2 = label[\"box2d\"][\"y2\"]\n",
        "                x_c = (x1 + x2) / (2 * IMAGE_WIDTH)\n",
        "                y_c = (y1 + y2) / (2 * IMAGE_HEIGHT)\n",
        "                width = (x2 - x1) / IMAGE_WIDTH\n",
        "                height = (y2 - y1) / IMAGE_HEIGHT\n",
        "                label_path = test_labels_txt_root / (obj[\"name\"][:-4] + \".txt\")\n",
        "                with label_path.open(\"a\", encoding=\"utf-8\") as label_f:\n",
        "                    label_f.write(f\"{category_indices[category]} {x_c:.6f} {y_c:.6f} {width:.6f} {height:.6f}\\n\")"
      ],
      "metadata": {
        "id": "pIj9lNYDT2J_"
      },
      "execution_count": null,
      "outputs": []
    },
    {
      "cell_type": "code",
      "source": [
        "# Generate YOLO style .txt labels for the train and val set\n",
        "# Please note: At this point, there is only a \"train\" split, and I am splitting\n",
        "# it into \"train\" and \"val\" by sending every 10th item to val\n",
        "!mkdir /content/data/labels/train && mkdir /content/data/labels/val && mkdir /content/data/images/val\n",
        "import ijson\n",
        "from pathlib import Path\n",
        "import shutil\n",
        "import os\n",
        "\n",
        "train_labels_json_path = Path(\"/content/data/labels_json/bdd100k_labels_images_train.json\")\n",
        "train_labels_txt_root = Path(\"/content/data/labels/train\")\n",
        "val_labels_txt_root = Path(\"/content/data/labels/val\")\n",
        "\n",
        "\n",
        "index = 1 # To send the 10th image and .txt label to val\n",
        "with train_labels_json_path.open(\"r\", encoding=\"utf-8\") as train_labels_json_f:\n",
        "    for obj in ijson.items(train_labels_json_f, \"item\"):\n",
        "        image_path = Path(\"/content/data/images/train\") / obj[\"name\"]\n",
        "        valid_labels = 0\n",
        "        for label in obj[\"labels\"]:\n",
        "            category = label[\"category\"]\n",
        "            if category in category_indices.keys():\n",
        "                valid_labels += 1\n",
        "                x1 = label[\"box2d\"][\"x1\"]\n",
        "                y1 = label[\"box2d\"][\"y1\"]\n",
        "                x2 = label[\"box2d\"][\"x2\"]\n",
        "                y2 = label[\"box2d\"][\"y2\"]\n",
        "                x_c = (x1 + x2) / (2 * IMAGE_WIDTH)\n",
        "                y_c = (y1 + y2) / (2 * IMAGE_HEIGHT)\n",
        "                width = (x2 - x1) / IMAGE_WIDTH\n",
        "                height = (y2 - y1) / IMAGE_HEIGHT\n",
        "                # Every 10th item goes to val\n",
        "                if index % 10 == 0:\n",
        "                    label_path = val_labels_txt_root / (obj[\"name\"][:-4] + \".txt\")\n",
        "                else:\n",
        "                    label_path = train_labels_txt_root / (obj[\"name\"][:-4] + \".txt\")\n",
        "                with label_path.open(\"a\", encoding=\"utf-8\") as label_f:\n",
        "                    label_f.write(f\"{category_indices[category]} {x_c:.6f} {y_c:.6f} {width:.6f} {height:.6f}\\n\")\n",
        "        if valid_labels == 0:\n",
        "            # Delete the image in train and continue\n",
        "            if os.path.exists(\"/content/data/images/train/\" + obj[\"name\"]):\n",
        "                os.remove(\"/content/data/images/train/\" + obj[\"name\"])\n",
        "            continue\n",
        "        if index % 10 == 0:\n",
        "            try:\n",
        "                shutil.move(image_path, Path(\"/content/data/images/val\"))\n",
        "            except Exception as e:\n",
        "                # WARNING! The below print statement could crash your system!\n",
        "                print(f\"Encountered exception for file {obj['name']} at index: {index}. Details: {e}\")\n",
        "        index += 1"
      ],
      "metadata": {
        "id": "7_L9_VwUdpuS"
      },
      "execution_count": null,
      "outputs": []
    },
    {
      "cell_type": "code",
      "source": [
        "!echo \"Number of files in images/train:\" $(ls -1 /content/data/images/train | wc -l)\n",
        "!echo \"Number of files in images/test:\" $(ls -1 /content/data/images/test | wc -l)\n",
        "!echo \"Number of files in images/val:\" $(ls -1 /content/data/images/val | wc -l)\n",
        "!echo \"Number of files in labels/train:\" $(ls -1 /content/data/labels/train | wc -l)\n",
        "!echo \"Number of files in labels/test:\" $(ls -1 /content/data/labels/test | wc -l)\n",
        "!echo \"Number of files in labels/val:\" $(ls -1 /content/data/labels/val | wc -l)"
      ],
      "metadata": {
        "id": "Q7Nx49T4s8wb",
        "colab": {
          "base_uri": "https://localhost:8080/"
        },
        "outputId": "a8b1998e-e056-491a-c5ac-be3f471c4601"
      },
      "execution_count": null,
      "outputs": [
        {
          "output_type": "stream",
          "name": "stdout",
          "text": [
            "Number of files in images/train: 63014\n",
            "Number of files in images/test: 10000\n",
            "Number of files in images/val: 6986\n",
            "Number of files in labels/train: 62877\n",
            "Number of files in labels/test: 10000\n",
            "Number of files in labels/val: 6986\n"
          ]
        }
      ]
    },
    {
      "cell_type": "code",
      "source": [
        "# Generate YAML file\n",
        "!touch /content/data/assignment.yaml\n",
        "import yaml\n",
        "\n",
        "yaml_dict = {\n",
        "    \"path\": \"/content/data\",\n",
        "    \"train\": \"images/train\",\n",
        "    \"val\": \"images/val\",\n",
        "    \"test\": \"images/test\",\n",
        "    \"names\": {\n",
        "        value: key for key, value in category_indices.items()\n",
        "    }\n",
        "}\n",
        "\n",
        "with open(\"/content/data/assignment.yaml\", \"w\") as yaml_f:\n",
        "    yaml.dump(yaml_dict, yaml_f)\n"
      ],
      "metadata": {
        "id": "PMkJ35mD8HRb"
      },
      "execution_count": null,
      "outputs": []
    },
    {
      "cell_type": "code",
      "source": [
        "# Now install ultralytics and wandb\n",
        "!pip install wandb\n",
        "!pip install ultralytics"
      ],
      "metadata": {
        "colab": {
          "base_uri": "https://localhost:8080/"
        },
        "id": "SOgKg7KqHjP-",
        "outputId": "da88495b-883a-440b-b8d0-5e86d2cd37ac"
      },
      "execution_count": null,
      "outputs": [
        {
          "output_type": "stream",
          "name": "stdout",
          "text": [
            "Requirement already satisfied: wandb in /usr/local/lib/python3.12/dist-packages (0.21.3)\n",
            "Requirement already satisfied: click>=8.0.1 in /usr/local/lib/python3.12/dist-packages (from wandb) (8.2.1)\n",
            "Requirement already satisfied: gitpython!=3.1.29,>=1.0.0 in /usr/local/lib/python3.12/dist-packages (from wandb) (3.1.45)\n",
            "Requirement already satisfied: packaging in /usr/local/lib/python3.12/dist-packages (from wandb) (25.0)\n",
            "Requirement already satisfied: platformdirs in /usr/local/lib/python3.12/dist-packages (from wandb) (4.4.0)\n",
            "Requirement already satisfied: protobuf!=4.21.0,!=5.28.0,<7,>=3.19.0 in /usr/local/lib/python3.12/dist-packages (from wandb) (5.29.5)\n",
            "Requirement already satisfied: pydantic<3 in /usr/local/lib/python3.12/dist-packages (from wandb) (2.11.7)\n",
            "Requirement already satisfied: pyyaml in /usr/local/lib/python3.12/dist-packages (from wandb) (6.0.2)\n",
            "Requirement already satisfied: requests<3,>=2.0.0 in /usr/local/lib/python3.12/dist-packages (from wandb) (2.32.4)\n",
            "Requirement already satisfied: sentry-sdk>=2.0.0 in /usr/local/lib/python3.12/dist-packages (from wandb) (2.37.1)\n",
            "Requirement already satisfied: typing-extensions<5,>=4.8 in /usr/local/lib/python3.12/dist-packages (from wandb) (4.15.0)\n",
            "Requirement already satisfied: gitdb<5,>=4.0.1 in /usr/local/lib/python3.12/dist-packages (from gitpython!=3.1.29,>=1.0.0->wandb) (4.0.12)\n",
            "Requirement already satisfied: annotated-types>=0.6.0 in /usr/local/lib/python3.12/dist-packages (from pydantic<3->wandb) (0.7.0)\n",
            "Requirement already satisfied: pydantic-core==2.33.2 in /usr/local/lib/python3.12/dist-packages (from pydantic<3->wandb) (2.33.2)\n",
            "Requirement already satisfied: typing-inspection>=0.4.0 in /usr/local/lib/python3.12/dist-packages (from pydantic<3->wandb) (0.4.1)\n",
            "Requirement already satisfied: charset_normalizer<4,>=2 in /usr/local/lib/python3.12/dist-packages (from requests<3,>=2.0.0->wandb) (3.4.3)\n",
            "Requirement already satisfied: idna<4,>=2.5 in /usr/local/lib/python3.12/dist-packages (from requests<3,>=2.0.0->wandb) (3.10)\n",
            "Requirement already satisfied: urllib3<3,>=1.21.1 in /usr/local/lib/python3.12/dist-packages (from requests<3,>=2.0.0->wandb) (2.5.0)\n",
            "Requirement already satisfied: certifi>=2017.4.17 in /usr/local/lib/python3.12/dist-packages (from requests<3,>=2.0.0->wandb) (2025.8.3)\n",
            "Requirement already satisfied: smmap<6,>=3.0.1 in /usr/local/lib/python3.12/dist-packages (from gitdb<5,>=4.0.1->gitpython!=3.1.29,>=1.0.0->wandb) (5.0.2)\n",
            "Requirement already satisfied: ultralytics in /usr/local/lib/python3.12/dist-packages (8.3.202)\n",
            "Requirement already satisfied: numpy>=1.23.0 in /usr/local/lib/python3.12/dist-packages (from ultralytics) (2.0.2)\n",
            "Requirement already satisfied: matplotlib>=3.3.0 in /usr/local/lib/python3.12/dist-packages (from ultralytics) (3.10.0)\n",
            "Requirement already satisfied: opencv-python>=4.6.0 in /usr/local/lib/python3.12/dist-packages (from ultralytics) (4.12.0.88)\n",
            "Requirement already satisfied: pillow>=7.1.2 in /usr/local/lib/python3.12/dist-packages (from ultralytics) (11.3.0)\n",
            "Requirement already satisfied: pyyaml>=5.3.1 in /usr/local/lib/python3.12/dist-packages (from ultralytics) (6.0.2)\n",
            "Requirement already satisfied: requests>=2.23.0 in /usr/local/lib/python3.12/dist-packages (from ultralytics) (2.32.4)\n",
            "Requirement already satisfied: scipy>=1.4.1 in /usr/local/lib/python3.12/dist-packages (from ultralytics) (1.16.1)\n",
            "Requirement already satisfied: torch>=1.8.0 in /usr/local/lib/python3.12/dist-packages (from ultralytics) (2.8.0+cu126)\n",
            "Requirement already satisfied: torchvision>=0.9.0 in /usr/local/lib/python3.12/dist-packages (from ultralytics) (0.23.0+cu126)\n",
            "Requirement already satisfied: psutil in /usr/local/lib/python3.12/dist-packages (from ultralytics) (5.9.5)\n",
            "Requirement already satisfied: polars in /usr/local/lib/python3.12/dist-packages (from ultralytics) (1.25.2)\n",
            "Requirement already satisfied: ultralytics-thop>=2.0.0 in /usr/local/lib/python3.12/dist-packages (from ultralytics) (2.0.17)\n",
            "Requirement already satisfied: contourpy>=1.0.1 in /usr/local/lib/python3.12/dist-packages (from matplotlib>=3.3.0->ultralytics) (1.3.3)\n",
            "Requirement already satisfied: cycler>=0.10 in /usr/local/lib/python3.12/dist-packages (from matplotlib>=3.3.0->ultralytics) (0.12.1)\n",
            "Requirement already satisfied: fonttools>=4.22.0 in /usr/local/lib/python3.12/dist-packages (from matplotlib>=3.3.0->ultralytics) (4.59.2)\n",
            "Requirement already satisfied: kiwisolver>=1.3.1 in /usr/local/lib/python3.12/dist-packages (from matplotlib>=3.3.0->ultralytics) (1.4.9)\n",
            "Requirement already satisfied: packaging>=20.0 in /usr/local/lib/python3.12/dist-packages (from matplotlib>=3.3.0->ultralytics) (25.0)\n",
            "Requirement already satisfied: pyparsing>=2.3.1 in /usr/local/lib/python3.12/dist-packages (from matplotlib>=3.3.0->ultralytics) (3.2.3)\n",
            "Requirement already satisfied: python-dateutil>=2.7 in /usr/local/lib/python3.12/dist-packages (from matplotlib>=3.3.0->ultralytics) (2.9.0.post0)\n",
            "Requirement already satisfied: charset_normalizer<4,>=2 in /usr/local/lib/python3.12/dist-packages (from requests>=2.23.0->ultralytics) (3.4.3)\n",
            "Requirement already satisfied: idna<4,>=2.5 in /usr/local/lib/python3.12/dist-packages (from requests>=2.23.0->ultralytics) (3.10)\n",
            "Requirement already satisfied: urllib3<3,>=1.21.1 in /usr/local/lib/python3.12/dist-packages (from requests>=2.23.0->ultralytics) (2.5.0)\n",
            "Requirement already satisfied: certifi>=2017.4.17 in /usr/local/lib/python3.12/dist-packages (from requests>=2.23.0->ultralytics) (2025.8.3)\n",
            "Requirement already satisfied: filelock in /usr/local/lib/python3.12/dist-packages (from torch>=1.8.0->ultralytics) (3.19.1)\n",
            "Requirement already satisfied: typing-extensions>=4.10.0 in /usr/local/lib/python3.12/dist-packages (from torch>=1.8.0->ultralytics) (4.15.0)\n",
            "Requirement already satisfied: setuptools in /usr/local/lib/python3.12/dist-packages (from torch>=1.8.0->ultralytics) (75.2.0)\n",
            "Requirement already satisfied: sympy>=1.13.3 in /usr/local/lib/python3.12/dist-packages (from torch>=1.8.0->ultralytics) (1.13.3)\n",
            "Requirement already satisfied: networkx in /usr/local/lib/python3.12/dist-packages (from torch>=1.8.0->ultralytics) (3.5)\n",
            "Requirement already satisfied: jinja2 in /usr/local/lib/python3.12/dist-packages (from torch>=1.8.0->ultralytics) (3.1.6)\n",
            "Requirement already satisfied: fsspec in /usr/local/lib/python3.12/dist-packages (from torch>=1.8.0->ultralytics) (2025.3.0)\n",
            "Requirement already satisfied: nvidia-cuda-nvrtc-cu12==12.6.77 in /usr/local/lib/python3.12/dist-packages (from torch>=1.8.0->ultralytics) (12.6.77)\n",
            "Requirement already satisfied: nvidia-cuda-runtime-cu12==12.6.77 in /usr/local/lib/python3.12/dist-packages (from torch>=1.8.0->ultralytics) (12.6.77)\n",
            "Requirement already satisfied: nvidia-cuda-cupti-cu12==12.6.80 in /usr/local/lib/python3.12/dist-packages (from torch>=1.8.0->ultralytics) (12.6.80)\n",
            "Requirement already satisfied: nvidia-cudnn-cu12==9.10.2.21 in /usr/local/lib/python3.12/dist-packages (from torch>=1.8.0->ultralytics) (9.10.2.21)\n",
            "Requirement already satisfied: nvidia-cublas-cu12==12.6.4.1 in /usr/local/lib/python3.12/dist-packages (from torch>=1.8.0->ultralytics) (12.6.4.1)\n",
            "Requirement already satisfied: nvidia-cufft-cu12==11.3.0.4 in /usr/local/lib/python3.12/dist-packages (from torch>=1.8.0->ultralytics) (11.3.0.4)\n",
            "Requirement already satisfied: nvidia-curand-cu12==10.3.7.77 in /usr/local/lib/python3.12/dist-packages (from torch>=1.8.0->ultralytics) (10.3.7.77)\n",
            "Requirement already satisfied: nvidia-cusolver-cu12==11.7.1.2 in /usr/local/lib/python3.12/dist-packages (from torch>=1.8.0->ultralytics) (11.7.1.2)\n",
            "Requirement already satisfied: nvidia-cusparse-cu12==12.5.4.2 in /usr/local/lib/python3.12/dist-packages (from torch>=1.8.0->ultralytics) (12.5.4.2)\n",
            "Requirement already satisfied: nvidia-cusparselt-cu12==0.7.1 in /usr/local/lib/python3.12/dist-packages (from torch>=1.8.0->ultralytics) (0.7.1)\n",
            "Requirement already satisfied: nvidia-nccl-cu12==2.27.3 in /usr/local/lib/python3.12/dist-packages (from torch>=1.8.0->ultralytics) (2.27.3)\n",
            "Requirement already satisfied: nvidia-nvtx-cu12==12.6.77 in /usr/local/lib/python3.12/dist-packages (from torch>=1.8.0->ultralytics) (12.6.77)\n",
            "Requirement already satisfied: nvidia-nvjitlink-cu12==12.6.85 in /usr/local/lib/python3.12/dist-packages (from torch>=1.8.0->ultralytics) (12.6.85)\n",
            "Requirement already satisfied: nvidia-cufile-cu12==1.11.1.6 in /usr/local/lib/python3.12/dist-packages (from torch>=1.8.0->ultralytics) (1.11.1.6)\n",
            "Requirement already satisfied: triton==3.4.0 in /usr/local/lib/python3.12/dist-packages (from torch>=1.8.0->ultralytics) (3.4.0)\n",
            "Requirement already satisfied: six>=1.5 in /usr/local/lib/python3.12/dist-packages (from python-dateutil>=2.7->matplotlib>=3.3.0->ultralytics) (1.17.0)\n",
            "Requirement already satisfied: mpmath<1.4,>=1.1.0 in /usr/local/lib/python3.12/dist-packages (from sympy>=1.13.3->torch>=1.8.0->ultralytics) (1.3.0)\n",
            "Requirement already satisfied: MarkupSafe>=2.0 in /usr/local/lib/python3.12/dist-packages (from jinja2->torch>=1.8.0->ultralytics) (3.0.2)\n"
          ]
        }
      ]
    },
    {
      "cell_type": "code",
      "source": [
        "WANDB_KEY=\"b03186a24df5a7d70eee8c36ba92b3aa43d537f7\""
      ],
      "metadata": {
        "id": "R3hH5NbbKuFS"
      },
      "execution_count": null,
      "outputs": []
    },
    {
      "cell_type": "code",
      "source": [
        "from ultralytics import YOLO\n",
        "import wandb\n",
        "\n",
        "wandb.login(key=WANDB_KEY)\n",
        "\n",
        "model = YOLO(\"yolo11n.pt\")\n",
        "results = model.train(\n",
        "    data=\"/content/data/assignment.yaml\",\n",
        "    epochs=5,\n",
        "    imgsz=640,\n",
        "    project=\"bosch-assignment\",\n",
        "    name=\"Run1-22.09\",\n",
        "    exist_ok=True\n",
        ")"
      ],
      "metadata": {
        "colab": {
          "base_uri": "https://localhost:8080/"
        },
        "id": "2XsBEsI7AMK6",
        "outputId": "af981077-1cdf-415e-cc98-a784049f1500"
      },
      "execution_count": null,
      "outputs": [
        {
          "output_type": "stream",
          "name": "stderr",
          "text": [
            "\u001b[34m\u001b[1mwandb\u001b[0m: \u001b[33mWARNING\u001b[0m If you're specifying your api key in code, ensure this code is not shared publicly.\n",
            "\u001b[34m\u001b[1mwandb\u001b[0m: \u001b[33mWARNING\u001b[0m Consider setting the WANDB_API_KEY environment variable, or running `wandb login` from the command line.\n",
            "\u001b[34m\u001b[1mwandb\u001b[0m: Appending key for api.wandb.ai to your netrc file: /root/.netrc\n"
          ]
        },
        {
          "output_type": "stream",
          "name": "stdout",
          "text": [
            "Ultralytics 8.3.202 🚀 Python-3.12.11 torch-2.8.0+cu126 CUDA:0 (Tesla T4, 15095MiB)\n",
            "\u001b[34m\u001b[1mengine/trainer: \u001b[0magnostic_nms=False, amp=True, augment=False, auto_augment=randaugment, batch=16, bgr=0.0, box=7.5, cache=False, cfg=None, classes=None, close_mosaic=10, cls=0.5, compile=False, conf=None, copy_paste=0.0, copy_paste_mode=flip, cos_lr=False, cutmix=0.0, data=/content/data/assignment.yaml, degrees=0.0, deterministic=True, device=None, dfl=1.5, dnn=False, dropout=0.0, dynamic=False, embed=None, epochs=5, erasing=0.4, exist_ok=True, fliplr=0.5, flipud=0.0, format=torchscript, fraction=1.0, freeze=None, half=False, hsv_h=0.015, hsv_s=0.7, hsv_v=0.4, imgsz=640, int8=False, iou=0.7, keras=False, kobj=1.0, line_width=None, lr0=0.01, lrf=0.01, mask_ratio=4, max_det=300, mixup=0.0, mode=train, model=yolo11n.pt, momentum=0.937, mosaic=1.0, multi_scale=False, name=Run1-22.09, nbs=64, nms=False, opset=None, optimize=False, optimizer=auto, overlap_mask=True, patience=100, perspective=0.0, plots=True, pose=12.0, pretrained=True, profile=False, project=bosch-assignment, rect=False, resume=False, retina_masks=False, save=True, save_conf=False, save_crop=False, save_dir=/content/bosch-assignment/Run1-22.09, save_frames=False, save_json=False, save_period=-1, save_txt=False, scale=0.5, seed=0, shear=0.0, show=False, show_boxes=True, show_conf=True, show_labels=True, simplify=True, single_cls=False, source=None, split=val, stream_buffer=False, task=detect, time=None, tracker=botsort.yaml, translate=0.1, val=True, verbose=True, vid_stride=1, visualize=False, warmup_bias_lr=0.1, warmup_epochs=3.0, warmup_momentum=0.8, weight_decay=0.0005, workers=8, workspace=None\n",
            "Overriding model.yaml nc=80 with nc=10\n",
            "\n",
            "                   from  n    params  module                                       arguments                     \n",
            "  0                  -1  1       464  ultralytics.nn.modules.conv.Conv             [3, 16, 3, 2]                 \n",
            "  1                  -1  1      4672  ultralytics.nn.modules.conv.Conv             [16, 32, 3, 2]                \n",
            "  2                  -1  1      6640  ultralytics.nn.modules.block.C3k2            [32, 64, 1, False, 0.25]      \n",
            "  3                  -1  1     36992  ultralytics.nn.modules.conv.Conv             [64, 64, 3, 2]                \n",
            "  4                  -1  1     26080  ultralytics.nn.modules.block.C3k2            [64, 128, 1, False, 0.25]     \n",
            "  5                  -1  1    147712  ultralytics.nn.modules.conv.Conv             [128, 128, 3, 2]              \n",
            "  6                  -1  1     87040  ultralytics.nn.modules.block.C3k2            [128, 128, 1, True]           \n",
            "  7                  -1  1    295424  ultralytics.nn.modules.conv.Conv             [128, 256, 3, 2]              \n",
            "  8                  -1  1    346112  ultralytics.nn.modules.block.C3k2            [256, 256, 1, True]           \n",
            "  9                  -1  1    164608  ultralytics.nn.modules.block.SPPF            [256, 256, 5]                 \n",
            " 10                  -1  1    249728  ultralytics.nn.modules.block.C2PSA           [256, 256, 1]                 \n",
            " 11                  -1  1         0  torch.nn.modules.upsampling.Upsample         [None, 2, 'nearest']          \n",
            " 12             [-1, 6]  1         0  ultralytics.nn.modules.conv.Concat           [1]                           \n",
            " 13                  -1  1    111296  ultralytics.nn.modules.block.C3k2            [384, 128, 1, False]          \n",
            " 14                  -1  1         0  torch.nn.modules.upsampling.Upsample         [None, 2, 'nearest']          \n",
            " 15             [-1, 4]  1         0  ultralytics.nn.modules.conv.Concat           [1]                           \n",
            " 16                  -1  1     32096  ultralytics.nn.modules.block.C3k2            [256, 64, 1, False]           \n",
            " 17                  -1  1     36992  ultralytics.nn.modules.conv.Conv             [64, 64, 3, 2]                \n",
            " 18            [-1, 13]  1         0  ultralytics.nn.modules.conv.Concat           [1]                           \n",
            " 19                  -1  1     86720  ultralytics.nn.modules.block.C3k2            [192, 128, 1, False]          \n",
            " 20                  -1  1    147712  ultralytics.nn.modules.conv.Conv             [128, 128, 3, 2]              \n",
            " 21            [-1, 10]  1         0  ultralytics.nn.modules.conv.Concat           [1]                           \n",
            " 22                  -1  1    378880  ultralytics.nn.modules.block.C3k2            [384, 256, 1, True]           \n",
            " 23        [16, 19, 22]  1    432622  ultralytics.nn.modules.head.Detect           [10, [64, 128, 256]]          \n",
            "YOLO11n summary: 181 layers, 2,591,790 parameters, 2,591,774 gradients, 6.5 GFLOPs\n",
            "\n",
            "Transferred 448/499 items from pretrained weights\n",
            "Freezing layer 'model.23.dfl.conv.weight'\n",
            "\u001b[34m\u001b[1mAMP: \u001b[0mrunning Automatic Mixed Precision (AMP) checks...\n",
            "\u001b[34m\u001b[1mAMP: \u001b[0mchecks passed ✅\n",
            "\u001b[34m\u001b[1mtrain: \u001b[0mFast image access ✅ (ping: 0.0±0.0 ms, read: 1252.7±420.9 MB/s, size: 51.6 KB)\n",
            "\u001b[K\u001b[34m\u001b[1mtrain: \u001b[0mScanning /content/data/labels/train.cache... 62877 images, 137 backgrounds, 0 corrupt: 100% ━━━━━━━━━━━━ 63014/63014 72.6Mit/s 0.0s\n",
            "\u001b[34m\u001b[1mtrain: \u001b[0m/content/data/images/train/75055858-7d04a650.jpg: 1 duplicate labels removed\n",
            "\u001b[34m\u001b[1malbumentations: \u001b[0mBlur(p=0.01, blur_limit=(3, 7)), MedianBlur(p=0.01, blur_limit=(3, 7)), ToGray(p=0.01, method='weighted_average', num_output_channels=3), CLAHE(p=0.01, clip_limit=(1.0, 4.0), tile_grid_size=(8, 8))\n",
            "\u001b[34m\u001b[1mval: \u001b[0mFast image access ✅ (ping: 0.0±0.0 ms, read: 862.6±820.1 MB/s, size: 64.8 KB)\n",
            "\u001b[K\u001b[34m\u001b[1mval: \u001b[0mScanning /content/data/labels/val.cache... 6986 images, 0 backgrounds, 0 corrupt: 100% ━━━━━━━━━━━━ 6986/6986 8.2Mit/s 0.0s\n",
            "Plotting labels to /content/bosch-assignment/Run1-22.09/labels.jpg... \n",
            "\u001b[34m\u001b[1moptimizer:\u001b[0m 'optimizer=auto' found, ignoring 'lr0=0.01' and 'momentum=0.937' and determining best 'optimizer', 'lr0' and 'momentum' automatically... \n",
            "\u001b[34m\u001b[1moptimizer:\u001b[0m AdamW(lr=0.000714, momentum=0.9) with parameter groups 81 weight(decay=0.0), 88 weight(decay=0.0005), 87 bias(decay=0.0)\n",
            "Image sizes 640 train, 640 val\n",
            "Using 2 dataloader workers\n",
            "Logging results to \u001b[1m/content/bosch-assignment/Run1-22.09\u001b[0m\n",
            "Starting training for 5 epochs...\n",
            "\n",
            "      Epoch    GPU_mem   box_loss   cls_loss   dfl_loss  Instances       Size\n",
            "\u001b[K        1/5       4.7G      1.545      1.433      1.059        243        640: 100% ━━━━━━━━━━━━ 3939/3939 2.9it/s 22:16\n",
            "\u001b[K                 Class     Images  Instances      Box(P          R      mAP50  mAP50-95): 100% ━━━━━━━━━━━━ 219/219 3.4it/s 1:04\n",
            "                   all       6986     128731      0.517      0.257      0.258      0.135\n",
            "\n",
            "      Epoch    GPU_mem   box_loss   cls_loss   dfl_loss  Instances       Size\n",
            "\u001b[K        2/5      4.71G      1.448      1.013      1.025        167        640: 100% ━━━━━━━━━━━━ 3939/3939 3.1it/s 20:58\n",
            "\u001b[K                 Class     Images  Instances      Box(P          R      mAP50  mAP50-95): 100% ━━━━━━━━━━━━ 219/219 3.8it/s 58.0s\n",
            "                   all       6986     128731      0.521      0.308      0.311      0.169\n",
            "\n",
            "      Epoch    GPU_mem   box_loss   cls_loss   dfl_loss  Instances       Size\n",
            "\u001b[K        3/5      4.71G      1.418     0.9585      1.015        276        640: 100% ━━━━━━━━━━━━ 3939/3939 3.2it/s 20:32\n",
            "\u001b[K                 Class     Images  Instances      Box(P          R      mAP50  mAP50-95): 100% ━━━━━━━━━━━━ 219/219 3.9it/s 56.0s\n",
            "                   all       6986     128731      0.561      0.328      0.338      0.183\n",
            "\n",
            "      Epoch    GPU_mem   box_loss   cls_loss   dfl_loss  Instances       Size\n",
            "\u001b[K        4/5      4.71G      1.389     0.9164      1.004        296        640: 100% ━━━━━━━━━━━━ 3939/3939 3.2it/s 20:45\n",
            "\u001b[K                 Class     Images  Instances      Box(P          R      mAP50  mAP50-95): 100% ━━━━━━━━━━━━ 219/219 3.7it/s 58.8s\n",
            "                   all       6986     128731      0.592      0.344      0.357      0.195\n",
            "\n",
            "      Epoch    GPU_mem   box_loss   cls_loss   dfl_loss  Instances       Size\n",
            "\u001b[K        5/5      4.71G      1.357     0.8773     0.9939        207        640: 100% ━━━━━━━━━━━━ 3939/3939 3.2it/s 20:30\n",
            "\u001b[K                 Class     Images  Instances      Box(P          R      mAP50  mAP50-95): 100% ━━━━━━━━━━━━ 219/219 3.8it/s 57.1s\n",
            "                   all       6986     128731      0.617      0.351      0.375      0.206\n",
            "\n",
            "5 epochs completed in 1.837 hours.\n",
            "Optimizer stripped from /content/bosch-assignment/Run1-22.09/weights/last.pt, 5.4MB\n",
            "Optimizer stripped from /content/bosch-assignment/Run1-22.09/weights/best.pt, 5.4MB\n",
            "\n",
            "Validating /content/bosch-assignment/Run1-22.09/weights/best.pt...\n",
            "Ultralytics 8.3.202 🚀 Python-3.12.11 torch-2.8.0+cu126 CUDA:0 (Tesla T4, 15095MiB)\n",
            "YOLO11n summary (fused): 100 layers, 2,584,102 parameters, 0 gradients, 6.3 GFLOPs\n",
            "\u001b[K                 Class     Images  Instances      Box(P          R      mAP50  mAP50-95): 100% ━━━━━━━━━━━━ 219/219 3.6it/s 1:00\n",
            "                   all       6986     128731      0.617      0.351      0.375      0.206\n",
            "          traffic sign       5763      23965      0.617      0.427      0.467      0.231\n",
            "         traffic light       3928      18901      0.573      0.396      0.409      0.142\n",
            "                   car       6902      71281      0.671      0.653      0.692      0.423\n",
            "                 rider        355        440      0.595      0.284      0.304      0.146\n",
            "                 motor        242        342      0.541      0.146      0.184     0.0825\n",
            "                person       2166       8925      0.559      0.433       0.46      0.212\n",
            "                   bus        913       1193      0.607      0.416      0.472      0.362\n",
            "                 truck       1883       2925      0.531      0.458      0.473      0.333\n",
            "                  bike        435        740      0.478      0.293      0.286      0.127\n",
            "                 train         13         19          1          0          0          0\n",
            "Speed: 0.1ms preprocess, 1.6ms inference, 0.0ms loss, 1.7ms postprocess per image\n",
            "Results saved to \u001b[1m/content/bosch-assignment/Run1-22.09\u001b[0m\n"
          ]
        }
      ]
    },
    {
      "cell_type": "code",
      "source": [],
      "metadata": {
        "id": "vxvR2MImHr3D"
      },
      "execution_count": null,
      "outputs": []
    }
  ]
}